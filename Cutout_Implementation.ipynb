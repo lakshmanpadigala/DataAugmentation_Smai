{
  "nbformat": 4,
  "nbformat_minor": 0,
  "metadata": {
    "colab": {
      "name": "Cutout_Implementation.ipynb",
      "provenance": [],
      "collapsed_sections": [],
      "mount_file_id": "1l5t5VawazhRoirQqnZJIXB4695EyLDof",
      "authorship_tag": "ABX9TyMy3Qyz9dqfsXHP+9ijZNj+",
      "include_colab_link": true
    },
    "kernelspec": {
      "name": "python3",
      "display_name": "Python 3"
    },
    "language_info": {
      "name": "python"
    }
  },
  "cells": [
    {
      "cell_type": "markdown",
      "metadata": {
        "id": "view-in-github",
        "colab_type": "text"
      },
      "source": [
        "<a href=\"https://colab.research.google.com/github/lakshmanpadigala/DataAugmentation_Smai/blob/main/Cutout_Implementation.ipynb\" target=\"_parent\"><img src=\"https://colab.research.google.com/assets/colab-badge.svg\" alt=\"Open In Colab\"/></a>"
      ]
    },
    {
      "cell_type": "code",
      "source": [
        "!pip install wget"
      ],
      "metadata": {
        "colab": {
          "base_uri": "https://localhost:8080/"
        },
        "id": "0joDycx0fk97",
        "outputId": "444de56e-8b6d-4e94-a3b5-8eaef1281c42"
      },
      "execution_count": 40,
      "outputs": [
        {
          "output_type": "stream",
          "name": "stdout",
          "text": [
            "Collecting wget\n",
            "  Downloading wget-3.2.zip (10 kB)\n",
            "Building wheels for collected packages: wget\n",
            "  Building wheel for wget (setup.py) ... \u001b[?25l\u001b[?25hdone\n",
            "  Created wheel for wget: filename=wget-3.2-py3-none-any.whl size=9675 sha256=6561ffb7442ffe989f8580c0ca0a785246c6852b9f68b622ed214322de8b432f\n",
            "  Stored in directory: /root/.cache/pip/wheels/a1/b6/7c/0e63e34eb06634181c63adacca38b79ff8f35c37e3c13e3c02\n",
            "Successfully built wget\n",
            "Installing collected packages: wget\n",
            "Successfully installed wget-3.2\n"
          ]
        }
      ]
    },
    {
      "cell_type": "code",
      "source": [
        "import numpy as np\n",
        "import torch\n",
        "import numpy as np\n",
        "import os\n",
        "from random import randrange\n",
        "from matplotlib import pyplot as plt\n",
        "from PIL import Image\n",
        "from tabulate import tabulate\n",
        "from sklearn import preprocessing\n",
        "import wget\n",
        "import tarfile\n",
        "from scipy.io import loadmat\n"
      ],
      "metadata": {
        "id": "3NQHSPlF84F4"
      },
      "execution_count": 57,
      "outputs": []
    },
    {
      "cell_type": "code",
      "source": [
        "url = 'http://ufldl.stanford.edu/housenumbers/train_32x32.mat'\n",
        "train_file = wget.download(url)"
      ],
      "metadata": {
        "id": "6dtfZCcPfPTm"
      },
      "execution_count": 52,
      "outputs": []
    },
    {
      "cell_type": "code",
      "source": [
        "url1 = 'http://ufldl.stanford.edu/housenumbers/test_32x32.mat'\n",
        "test_file = wget.download(url1)"
      ],
      "metadata": {
        "id": "Vp_oUoTEf_YE"
      },
      "execution_count": 53,
      "outputs": []
    },
    {
      "cell_type": "code",
      "source": [
        "!mv /content/test_32x32.mat /content/drive/MyDrive/Colab\\ Notebooks/SMAI\\ Project"
      ],
      "metadata": {
        "id": "3BjJMcjegr7C"
      },
      "execution_count": 55,
      "outputs": []
    },
    {
      "cell_type": "code",
      "source": [
        "!mv /content/train_32x32.mat /content/drive/MyDrive/Colab\\ Notebooks/SMAI\\ Project"
      ],
      "metadata": {
        "id": "-rizWeMihSnx"
      },
      "execution_count": 56,
      "outputs": []
    },
    {
      "cell_type": "code",
      "source": [
        "# train_file = tarfile.open('/content/drive/MyDrive/Colab Notebooks/SMAI Project/train.tar.gz')\n",
        "# test_file = tarfile.open('/content/drive/MyDrive/Colab Notebooks/SMAI Project/test.tar.gz')\n",
        "# train_file.extractall('/content/drive/MyDrive/Colab Notebooks/SMAI Project')\n",
        "# test_file.extractall('/content/drive/MyDrive/Colab Notebooks/SMAI Project')\n",
        "# train_file.close()\n",
        "# test_file.close()"
      ],
      "metadata": {
        "id": "gmJjjN5DhcBU"
      },
      "execution_count": 51,
      "outputs": []
    },
    {
      "cell_type": "code",
      "source": [
        "train = loadmat('/content/drive/MyDrive/Colab Notebooks/SMAI Project/train_32x32.mat')"
      ],
      "metadata": {
        "id": "Icgp8lk0n0Ok"
      },
      "execution_count": 58,
      "outputs": []
    },
    {
      "cell_type": "code",
      "source": [
        "train.keys()"
      ],
      "metadata": {
        "colab": {
          "base_uri": "https://localhost:8080/"
        },
        "id": "Uq9EqRhyoBaA",
        "outputId": "b1c0d7d8-06d7-4a3a-b4ae-fec833bbd847"
      },
      "execution_count": 65,
      "outputs": [
        {
          "output_type": "execute_result",
          "data": {
            "text/plain": [
              "dict_keys(['__header__', '__version__', '__globals__', 'X', 'y'])"
            ]
          },
          "metadata": {},
          "execution_count": 65
        }
      ]
    },
    {
      "cell_type": "code",
      "source": [
        "train_x = train['X']\n",
        "train_y = train['y']\n",
        "train_x.shape , train_y.shape"
      ],
      "metadata": {
        "colab": {
          "base_uri": "https://localhost:8080/"
        },
        "id": "p0dMfIZ2ywxf",
        "outputId": "8e8ebca0-219a-4a58-abcb-0e9b18e5fb52"
      },
      "execution_count": 66,
      "outputs": [
        {
          "output_type": "execute_result",
          "data": {
            "text/plain": [
              "((32, 32, 3, 73257), (73257, 1))"
            ]
          },
          "metadata": {},
          "execution_count": 66
        }
      ]
    },
    {
      "cell_type": "code",
      "source": [
        "test = loadmat('/content/drive/MyDrive/Colab Notebooks/SMAI Project/test_32x32.mat')"
      ],
      "metadata": {
        "id": "cDC9AqjRy9Ou"
      },
      "execution_count": 67,
      "outputs": []
    },
    {
      "cell_type": "code",
      "source": [
        "test_x = test['X']\n",
        "test_y = test['y']\n",
        "test_x.shape , test_y.shape"
      ],
      "metadata": {
        "colab": {
          "base_uri": "https://localhost:8080/"
        },
        "id": "FeDjahgOzE3F",
        "outputId": "f1c3b1c8-2756-469a-f981-271ecce0f037"
      },
      "execution_count": 68,
      "outputs": [
        {
          "output_type": "execute_result",
          "data": {
            "text/plain": [
              "((32, 32, 3, 26032), (26032, 1))"
            ]
          },
          "metadata": {},
          "execution_count": 68
        }
      ]
    },
    {
      "cell_type": "code",
      "source": [
        "def cut_out(image,holes,length):\n",
        "  image =  torch.from_numpy(image).permute(2,0,1)\n",
        "  print(\"Image shape\",image.shape)\n",
        "  height = image.shape[1]\n",
        "  width = image.shape[2]\n",
        "  for i in range(holes):\n",
        "    y = np.random.randint(height)\n",
        "    x = np.random.randint(width)\n",
        "    mask = np.ones((height, width), np.float32)\n",
        "    y1 = np.clip(y - length // 2, 0, height)\n",
        "    y2 = np.clip(y + length // 2, 0, height)\n",
        "    x1 = np.clip(x - length // 2, 0, width)\n",
        "    x2 = np.clip(x + length // 2, 0, width)\n",
        "\n",
        "    mask[y1: y2, x1: x2] = 0\n",
        "\n",
        "    mask = torch.from_numpy(mask)\n",
        "    mask = mask.expand_as(image)\n",
        "    image = image * mask\n",
        "\n",
        "  return image.permute(1,2,0)      "
      ],
      "metadata": {
        "id": "N-bkiki662lr"
      },
      "execution_count": 112,
      "outputs": []
    },
    {
      "cell_type": "code",
      "source": [
        "cut_out_img = []\n",
        "for img in images:\n",
        "  cut_out_img.append(cut_out(img,4,6))\n",
        "display_images(cut_out_img,1,3)"
      ],
      "metadata": {
        "colab": {
          "base_uri": "https://localhost:8080/",
          "height": 214
        },
        "id": "1Toxl6gH5Isj",
        "outputId": "5823794d-a36c-47f0-b81b-d4c0a1a6623e"
      },
      "execution_count": 121,
      "outputs": [
        {
          "output_type": "stream",
          "name": "stdout",
          "text": [
            "Image shape torch.Size([3, 32, 32])\n",
            "Image shape torch.Size([3, 32, 32])\n",
            "Image shape torch.Size([3, 32, 32])\n"
          ]
        },
        {
          "output_type": "display_data",
          "data": {
            "text/plain": [
              "<Figure size 576x576 with 3 Axes>"
            ],
            "image/png": "[encoded data removed]"
          },
          "metadata": {
            "needs_background": "light"
          }
        }
      ]
    },
    {
      "cell_type": "code",
      "source": [
        "del cut_out"
      ],
      "metadata": {
        "id": "7CY_424k5zZL"
      },
      "execution_count": 105,
      "outputs": []
    },
    {
      "cell_type": "code",
      "source": [
        "opt = {\n",
        "    'image_size': 32,\n",
        "    'is_grayscale': False,\n",
        "    'val_split': 0.75\n",
        "}"
      ],
      "metadata": {
        "id": "6MaRIZ46ah57"
      },
      "execution_count": 24,
      "outputs": []
    },
    {
      "cell_type": "code",
      "source": [
        "def load_image(path):\n",
        "    im = Image.open(path).convert('L' if opt['is_grayscale'] else 'RGB')\n",
        "    im = im.resize((opt['image_size'],opt['image_size']))\n",
        "    im = np.array(im)\n",
        "    im = im/256\n",
        "    return im\n",
        "\n",
        "def display_images(imgs,row=1,col=2,w=32,h=32):\n",
        "    fig=plt.figure(figsize=(8, 8))\n",
        "    for i in range(1, col*row +1):\n",
        "        img = imgs[i-1]\n",
        "        fig.add_subplot(row, col, i)\n",
        "        \n",
        "        if opt['is_grayscale']:\n",
        "            plt.imshow(img , cmap='gray') \n",
        "        else:\n",
        "            plt.imshow(img)\n",
        "        \n",
        "        # plt.title(\"Class:{}\".format(classes[i-1]))\n",
        "        plt.axis('off')\n",
        "    plt.show()\n",
        "\n",
        "def load_data():\n",
        "    image_list = []\n",
        "    im = load_image('/VladimirPutin_0016.png')\n",
        "    image_list.append(im)\n",
        "    im = load_image('/VladimirPutin_0019.png')\n",
        "    image_list.append(im)\n",
        "    im = load_image('/VladimirPutin_0028.png')\n",
        "    image_list.append(im)\n",
        "\n",
        "    image_list = np.array(image_list)\n",
        "\n",
        "    print(\"Dataset shape:\",image_list.shape)\n",
        "\n",
        "    return image_list"
      ],
      "metadata": {
        "id": "VRBDe9SsZm1n"
      },
      "execution_count": 100,
      "outputs": []
    },
    {
      "cell_type": "code",
      "source": [
        "images = load_data()"
      ],
      "metadata": {
        "colab": {
          "base_uri": "https://localhost:8080/"
        },
        "id": "ZWcW6xhXamMD",
        "outputId": "be1b5337-559a-4318-9f97-912f21ea5829"
      },
      "execution_count": 101,
      "outputs": [
        {
          "output_type": "stream",
          "name": "stdout",
          "text": [
            "Dataset shape: (3, 32, 32, 3)\n"
          ]
        }
      ]
    },
    {
      "cell_type": "code",
      "source": [
        "display_images(images,1,3)"
      ],
      "metadata": {
        "colab": {
          "base_uri": "https://localhost:8080/",
          "height": 162
        },
        "id": "F50tbWMOavXq",
        "outputId": "64eb6d04-bb08-43d3-bc3e-80dd6e5ede52"
      },
      "execution_count": 102,
      "outputs": [
        {
          "output_type": "display_data",
          "data": {
            "text/plain": [
              "<Figure size 576x576 with 3 Axes>"
            ],
            "image/png": "[encoded data removed]"
          },
          "metadata": {
            "needs_background": "light"
          }
        }
      ]
    },
    {
      "cell_type": "code",
      "source": [
        "T1 = torch.Tensor([[3,2,6],[7,5,3]])\n",
        "T2 = torch.Tensor([[1,0,1],[1,0,1]])"
      ],
      "metadata": {
        "id": "EhFO96H131a6"
      },
      "execution_count": 85,
      "outputs": []
    },
    {
      "cell_type": "code",
      "source": [
        "T1 * T2"
      ],
      "metadata": {
        "colab": {
          "base_uri": "https://localhost:8080/"
        },
        "id": "PFdSRV914EaN",
        "outputId": "8cf2578d-fe23-4306-91ff-e0180fec1e08"
      },
      "execution_count": 86,
      "outputs": [
        {
          "output_type": "execute_result",
          "data": {
            "text/plain": [
              "tensor([[3., 0., 6.],\n",
              "        [7., 0., 3.]])"
            ]
          },
          "metadata": {},
          "execution_count": 86
        }
      ]
    },
    {
      "cell_type": "code",
      "source": [
        "cut_out = []\n",
        "for img in images:\n",
        "  mask = np.ones((32,32), np.float32)\n",
        "  mask[9: 19, 10:18] = 5/255\n",
        "  mask = torch.from_numpy(mask)\n",
        "  img =  torch.from_numpy(img).permute(2,0,1)\n",
        "  mask = mask.expand_as(img)\n",
        "  temp = img * mask\n",
        "  cut_out.append(temp.permute(1,2,0))  "
      ],
      "metadata": {
        "colab": {
          "base_uri": "https://localhost:8080/"
        },
        "id": "_6ZvbXRga1ix",
        "outputId": "d924d7dc-88c4-426f-a8e8-25510a299154"
      },
      "execution_count": 96,
      "outputs": [
        {
          "output_type": "stream",
          "name": "stdout",
          "text": [
            "<class 'torch.Tensor'>\n",
            "<class 'torch.Tensor'>\n",
            "<class 'torch.Tensor'>\n"
          ]
        }
      ]
    },
    {
      "cell_type": "code",
      "source": [
        "type(cut_out[0])"
      ],
      "metadata": {
        "colab": {
          "base_uri": "https://localhost:8080/"
        },
        "id": "3ffTrpBX44eB",
        "outputId": "bb3dbc93-c385-477a-a371-d01106ea67cc"
      },
      "execution_count": 97,
      "outputs": [
        {
          "output_type": "execute_result",
          "data": {
            "text/plain": [
              "torch.Tensor"
            ]
          },
          "metadata": {},
          "execution_count": 97
        }
      ]
    },
    {
      "cell_type": "code",
      "source": [
        "display_images(cut_out,1,3)"
      ],
      "metadata": {
        "colab": {
          "base_uri": "https://localhost:8080/",
          "height": 162
        },
        "id": "KZ75eH4Pb99Z",
        "outputId": "fdf7f5b9-5301-4e05-c687-b70dcbf6d014"
      },
      "execution_count": 93,
      "outputs": [
        {
          "output_type": "display_data",
          "data": {
            "text/plain": [
              "<Figure size 576x576 with 3 Axes>"
            ],
            "image/png": "[encoded data removed]"
          },
          "metadata": {
            "needs_background": "light"
          }
        }
      ]
    },
    {
      "cell_type": "code",
      "execution_count": null,
      "metadata": {
        "id": "SXegKdLXzuUM",
        "outputId": "17538ba5-8229-4067-b627-621cce77142d",
        "colab": {
          "base_uri": "https://localhost:8080/"
        }
      },
      "outputs": [
        {
          "output_type": "stream",
          "name": "stdout",
          "text": [
            "Cutout Implementation..!\n"
          ]
        }
      ],
      "source": [
        "print('Cutout Implementation..!')"
      ]
    }
  ]
}